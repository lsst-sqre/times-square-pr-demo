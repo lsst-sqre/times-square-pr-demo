{
 "cells": [
  {
   "cell_type": "markdown",
   "id": "f69e583e",
   "metadata": {},
   "source": [
    "# Now"
   ]
  },
  {
   "cell_type": "code",
   "execution_count": null,
   "id": "5248bd05",
   "metadata": {},
   "outputs": [],
   "source": [
    "# Parameters cell\n",
    "import datetime\n",
    "date = datetime.date.fromisoformat('2024-10-10')"
   ]
  },
  {
   "cell_type": "code",
   "execution_count": null,
   "id": "401a89d2",
   "metadata": {},
   "outputs": [],
   "source": [
    "print(f\"Parameterized date: {date.isoformat()}\")\n",
    "print(f\"Current time: {datetime.datetime.now().isoformat()}\")"
   ]
  }
 ],
 "metadata": {
  "kernelspec": {
   "display_name": ".venv",
   "language": "python",
   "name": "python3"
  },
  "language_info": {
   "name": "python",
   "version": "3.13.3"
  }
 },
 "nbformat": 4,
 "nbformat_minor": 5
}
