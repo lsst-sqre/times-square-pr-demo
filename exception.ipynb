{
 "cells": [
  {
   "cell_type": "markdown",
   "id": "55f92c76",
   "metadata": {},
   "source": [
    "# Exception demonstration\n",
    "\n",
    "This notebook raises an exception, and demonstrates how Times Square reports it in PR check runs."
   ]
  },
  {
   "cell_type": "code",
   "execution_count": null,
   "id": "f5ad757e",
   "metadata": {},
   "outputs": [],
   "source": [
    "# Parameters cell\n",
    "message = \"Hello, world!\""
   ]
  },
  {
   "cell_type": "code",
   "execution_count": null,
   "id": "2c06e940",
   "metadata": {},
   "outputs": [],
   "source": [
    "from time import sleep\n",
    "sleep(2)\n",
    "raise RuntimeError(\"This is a test error\")"
   ]
  },
  {
   "cell_type": "code",
   "execution_count": null,
   "id": "2713b874",
   "metadata": {},
   "outputs": [],
   "source": []
  }
 ],
 "metadata": {
  "kernelspec": {
   "display_name": ".venv",
   "language": "python",
   "name": "python3"
  },
  "language_info": {
   "name": "python",
   "version": "3.12.8"
  }
 },
 "nbformat": 4,
 "nbformat_minor": 5
}
