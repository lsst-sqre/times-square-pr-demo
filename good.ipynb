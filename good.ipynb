{
 "cells": [
  {
   "cell_type": "markdown",
   "id": "77dd628f",
   "metadata": {},
   "source": [
    "# A notebook that runs"
   ]
  },
  {
   "cell_type": "code",
   "execution_count": null,
   "id": "24406528",
   "metadata": {},
   "outputs": [],
   "source": [
    "# Parameters cell"
   ]
  },
  {
   "cell_type": "code",
   "execution_count": null,
   "id": "80acb4b6",
   "metadata": {},
   "outputs": [],
   "source": [
    "print(\"Hello, world!\")"
   ]
  }
 ],
 "metadata": {
  "kernelspec": {
   "display_name": ".venv",
   "language": "python",
   "name": "python3"
  },
  "language_info": {
   "name": "python",
   "version": "3.12.8"
  }
 },
 "nbformat": 4,
 "nbformat_minor": 5
}
