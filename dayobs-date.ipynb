{
 "cells": [
  {
   "cell_type": "markdown",
   "id": "95b8bc92",
   "metadata": {},
   "source": [
    "# Today's date"
   ]
  },
  {
   "cell_type": "code",
   "execution_count": 1,
   "id": "64fde017",
   "metadata": {
    "execution": {
     "iopub.execute_input": "2025-06-11T18:24:11.335645Z",
     "iopub.status.busy": "2025-06-11T18:24:11.335306Z",
     "iopub.status.idle": "2025-06-11T18:24:11.339198Z",
     "shell.execute_reply": "2025-06-11T18:24:11.338497Z",
     "shell.execute_reply.started": "2025-06-11T18:24:11.335618Z"
    }
   },
   "outputs": [],
   "source": [
    "# Parameters cell\n",
    "import datetime\n",
    "date = datetime.date.fromisoformat(\"2025-01-01\")"
   ]
  },
  {
   "cell_type": "code",
   "execution_count": 3,
   "id": "0ab898e1",
   "metadata": {
    "execution": {
     "iopub.execute_input": "2025-06-11T18:24:23.702396Z",
     "iopub.status.busy": "2025-06-11T18:24:23.701422Z",
     "iopub.status.idle": "2025-06-11T18:24:23.706655Z",
     "shell.execute_reply": "2025-06-11T18:24:23.705941Z",
     "shell.execute_reply.started": "2025-06-11T18:24:23.702355Z"
    }
   },
   "outputs": [
    {
     "name": "stdout",
     "output_type": "stream",
     "text": [
      "The date is: 2025-01-01 (<class 'datetime.date'>)\n"
     ]
    }
   ],
   "source": [
    "print(f\"The date is: {date} ({type(date)})\")"
   ]
  },
  {
   "cell_type": "code",
   "execution_count": null,
   "id": "85e5c811-7d5e-468c-9221-1c6157176ebd",
   "metadata": {},
   "outputs": [],
   "source": []
  }
 ],
 "metadata": {
  "kernelspec": {
   "display_name": "LSST",
   "language": "python",
   "name": "lsst"
  },
  "language_info": {
   "codemirror_mode": {
    "name": "ipython",
    "version": 3
   },
   "file_extension": ".py",
   "mimetype": "text/x-python",
   "name": "python",
   "nbconvert_exporter": "python",
   "pygments_lexer": "ipython3",
   "version": "3.12.10"
  }
 },
 "nbformat": 4,
 "nbformat_minor": 5
}
