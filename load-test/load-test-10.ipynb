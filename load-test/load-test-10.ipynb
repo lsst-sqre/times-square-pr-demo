{
 "cells": [
  {
   "cell_type": "markdown",
   "id": "6bc7fee8",
   "metadata": {},
   "source": [
    "# Load Test 10\n",
    "\n",
    "This notebook is part of a load test with a 10-minute timeout"
   ]
  },
  {
   "cell_type": "code",
   "execution_count": null,
   "id": "a08e2b13",
   "metadata": {},
   "outputs": [],
   "source": [
    "# Parameters cells"
   ]
  },
  {
   "cell_type": "code",
   "execution_count": null,
   "id": "fe56b7ae",
   "metadata": {},
   "outputs": [],
   "source": [
    "from time import sleep\n",
    "sleep(10*60)"
   ]
  }
 ],
 "metadata": {
  "language_info": {
   "name": "python"
  }
 },
 "nbformat": 4,
 "nbformat_minor": 5
}
