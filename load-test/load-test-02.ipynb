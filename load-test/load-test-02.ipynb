{
 "cells": [
  {
   "cell_type": "markdown",
   "id": "da6e16cd",
   "metadata": {},
   "source": [
    "# Load Test 02\n",
    "\n",
    "This notebook is part of a load test with a 10-minute timeout"
   ]
  },
  {
   "cell_type": "code",
   "execution_count": null,
   "id": "06d0fd75",
   "metadata": {},
   "outputs": [],
   "source": [
    "# Parameters cells"
   ]
  },
  {
   "cell_type": "code",
   "execution_count": null,
   "id": "a901ec68",
   "metadata": {},
   "outputs": [],
   "source": [
    "from time import sleep\n",
    "sleep(10*60)"
   ]
  }
 ],
 "metadata": {
  "language_info": {
   "name": "python"
  }
 },
 "nbformat": 4,
 "nbformat_minor": 5
}
