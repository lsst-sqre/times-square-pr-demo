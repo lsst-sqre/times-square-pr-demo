{
 "cells": [
  {
   "cell_type": "markdown",
   "id": "8d21bd5e",
   "metadata": {},
   "source": [
    "# Load Test 07\n",
    "\n",
    "This notebook is part of a load test with a 10-minute timeout"
   ]
  },
  {
   "cell_type": "code",
   "execution_count": null,
   "id": "ee8fe8b8",
   "metadata": {},
   "outputs": [],
   "source": [
    "# Parameters cells"
   ]
  },
  {
   "cell_type": "code",
   "execution_count": null,
   "id": "0ec2eb9f",
   "metadata": {},
   "outputs": [],
   "source": [
    "from time import sleep\n",
    "sleep(10*60)"
   ]
  }
 ],
 "metadata": {
  "language_info": {
   "name": "python"
  }
 },
 "nbformat": 4,
 "nbformat_minor": 5
}
