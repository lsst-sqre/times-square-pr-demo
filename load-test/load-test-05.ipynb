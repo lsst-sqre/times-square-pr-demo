{
 "cells": [
  {
   "cell_type": "markdown",
   "id": "081c8b90",
   "metadata": {},
   "source": [
    "# Load Test 05\n",
    "\n",
    "This notebook is part of a load test with a 10-minute timeout"
   ]
  },
  {
   "cell_type": "code",
   "execution_count": null,
   "id": "c9fc362f",
   "metadata": {},
   "outputs": [],
   "source": [
    "# Parameters cells"
   ]
  },
  {
   "cell_type": "code",
   "execution_count": null,
   "id": "49936134",
   "metadata": {},
   "outputs": [],
   "source": [
    "from time import sleep\n",
    "sleep(10*60)"
   ]
  }
 ],
 "metadata": {
  "language_info": {
   "name": "python"
  }
 },
 "nbformat": 4,
 "nbformat_minor": 5
}
