{
 "cells": [
  {
   "cell_type": "markdown",
   "id": "16bdc49e",
   "metadata": {},
   "source": [
    "# Load Test 01\n",
    "\n",
    "This notebook is part of a load test with a 10-minute timeout"
   ]
  },
  {
   "cell_type": "code",
   "execution_count": null,
   "id": "fb33f6b2",
   "metadata": {},
   "outputs": [],
   "source": [
    "# Parameters cells"
   ]
  },
  {
   "cell_type": "code",
   "execution_count": null,
   "id": "7b4e4f70",
   "metadata": {},
   "outputs": [],
   "source": [
    "from time import sleep\n",
    "sleep(10*60)"
   ]
  }
 ],
 "metadata": {
  "language_info": {
   "name": "python"
  }
 },
 "nbformat": 4,
 "nbformat_minor": 5
}
