{
 "cells": [
  {
   "cell_type": "markdown",
   "id": "95b8bc92",
   "metadata": {},
   "source": [
    "# Today's date"
   ]
  },
  {
   "cell_type": "code",
   "execution_count": 3,
   "id": "64fde017",
   "metadata": {
    "execution": {
     "iopub.execute_input": "2025-06-11T18:24:38.258485Z",
     "iopub.status.busy": "2025-06-11T18:24:38.257728Z",
     "iopub.status.idle": "2025-06-11T18:24:38.261334Z",
     "shell.execute_reply": "2025-06-11T18:24:38.260657Z",
     "shell.execute_reply.started": "2025-06-11T18:24:38.258458Z"
    }
   },
   "outputs": [],
   "source": [
    "# Parameters cell\n",
    "date = 20250101"
   ]
  },
  {
   "cell_type": "code",
   "execution_count": 4,
   "id": "0ab898e1",
   "metadata": {
    "execution": {
     "iopub.execute_input": "2025-06-11T18:24:38.662708Z",
     "iopub.status.busy": "2025-06-11T18:24:38.661911Z",
     "iopub.status.idle": "2025-06-11T18:24:38.666420Z",
     "shell.execute_reply": "2025-06-11T18:24:38.665711Z",
     "shell.execute_reply.started": "2025-06-11T18:24:38.662677Z"
    }
   },
   "outputs": [
    {
     "name": "stdout",
     "output_type": "stream",
     "text": [
      "The date is: 20250101 (<class 'int'>)\n"
     ]
    }
   ],
   "source": [
    "print(f\"The date is: {date} ({type(date)})\")"
   ]
  },
  {
   "cell_type": "code",
   "execution_count": null,
   "id": "15f34c5d-d2db-41e3-ae99-a6df5b163f7f",
   "metadata": {},
   "outputs": [],
   "source": []
  }
 ],
 "metadata": {
  "kernelspec": {
   "display_name": "LSST",
   "language": "python",
   "name": "lsst"
  },
  "language_info": {
   "codemirror_mode": {
    "name": "ipython",
    "version": 3
   },
   "file_extension": ".py",
   "mimetype": "text/x-python",
   "name": "python",
   "nbconvert_exporter": "python",
   "pygments_lexer": "ipython3",
   "version": "3.12.10"
  }
 },
 "nbformat": 4,
 "nbformat_minor": 5
}
