{
 "cells": [
  {
   "cell_type": "markdown",
   "id": "cf5c46f1",
   "metadata": {},
   "source": [
    "# Test running with the LSST kernel\n",
    "\n",
    "This notebook's source file includes a `python3` kernelspec, but Times Square changes the kernel to `lsst` when running the notebook. This is a test to see if that works."
   ]
  },
  {
   "cell_type": "code",
   "execution_count": 1,
   "id": "7c0aa796",
   "metadata": {},
   "outputs": [],
   "source": [
    "# Parameter cell"
   ]
  },
  {
   "cell_type": "code",
   "execution_count": null,
   "id": "323d2657",
   "metadata": {},
   "outputs": [
    {
     "name": "stdout",
     "output_type": "stream",
     "text": [
      "{'key': '4e0e76d2-ffa8-444d-ad6a-c2cce13b8554', 'signature_scheme': 'hmac-sha256', 'transport': 'tcp', 'ip': '127.0.0.1', 'hb_port': 9029, 'control_port': 9030, 'shell_port': 9031, 'stdin_port': 9032, 'iopub_port': 9033, 'kernel_name': 'python3128jvsc74a57bd04ffc79fa5196548678bfff82fa438d1e50754b88c058d3789f3999208801c6d5'}\n",
      "Current kernel name: python3128jvsc74a57bd04ffc79fa5196548678bfff82fa438d1e50754b88c058d3789f3999208801c6d5\n"
     ]
    }
   ],
   "source": [
    "import json\n",
    "import os\n",
    "from pathlib import Path\n",
    "\n",
    "# Get the path to the current kernel's connection file\n",
    "connection_file = os.path.basename(get_ipython().config['IPKernelApp']['connection_file'])\n",
    "kernel_id = Path(connection_file).stem.split('-', 1)[-1]\n",
    "\n",
    "# List running kernels and find the matching one\n",
    "\n",
    "# Find the Jupyter runtime directory\n",
    "runtime_dir = os.path.dirname(get_ipython().config['IPKernelApp']['connection_file'])\n",
    "\n",
    "# Try to get the kernel name from the kernelspec\n",
    "try:\n",
    "    with open(os.path.join(runtime_dir, connection_file), 'r') as f:\n",
    "        connection_info = json.load(f)\n",
    "        print(connection_info)\n",
    "    kernel_name = connection_info.get('kernel_name', 'unknown')\n",
    "except Exception:\n",
    "    kernel_name = 'unknown'\n",
    "\n",
    "print(f\"Current kernel name: {kernel_name}\")"
   ]
  },
  {
   "cell_type": "code",
   "execution_count": null,
   "id": "f1a3073f",
   "metadata": {},
   "outputs": [],
   "source": []
  }
 ],
 "metadata": {
  "kernelspec": {
   "display_name": ".venv",
   "language": "python",
   "name": "python3"
  },
  "language_info": {
   "codemirror_mode": {
    "name": "ipython",
    "version": 3
   },
   "file_extension": ".py",
   "mimetype": "text/x-python",
   "name": "python",
   "nbconvert_exporter": "python",
   "pygments_lexer": "ipython3",
   "version": "3.13.3"
  }
 },
 "nbformat": 4,
 "nbformat_minor": 5
}
