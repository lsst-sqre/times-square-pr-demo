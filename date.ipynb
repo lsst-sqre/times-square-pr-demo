{
 "cells": [
  {
   "cell_type": "markdown",
   "id": "95b8bc92",
   "metadata": {},
   "source": [
    "# Today's date"
   ]
  },
  {
   "cell_type": "code",
   "execution_count": null,
   "id": "64fde017",
   "metadata": {},
   "outputs": [],
   "source": [
    "# Parameters cell\n",
    "from datetime import date\n",
    "date = date(2025, 1, 1)"
   ]
  },
  {
   "cell_type": "code",
   "execution_count": null,
   "id": "0ab898e1",
   "metadata": {},
   "outputs": [],
   "source": [
    "print(f\"The date is: {date.isoformat()}\")"
   ]
  }
 ],
 "metadata": {
  "kernelspec": {
   "display_name": ".venv",
   "language": "python",
   "name": "python3"
  },
  "language_info": {
   "name": "python",
   "version": "3.13.3"
  }
 },
 "nbformat": 4,
 "nbformat_minor": 5
}
