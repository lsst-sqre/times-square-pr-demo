{
 "cells": [
  {
   "cell_type": "markdown",
   "id": "f4a54621",
   "metadata": {},
   "source": [
    "# Timeout demo\n",
    "\n",
    "This notebook demonstrates how a long-running notebook is reported in PR check runs"
   ]
  },
  {
   "cell_type": "code",
   "execution_count": null,
   "id": "14a70ae2",
   "metadata": {},
   "outputs": [],
   "source": [
    "# Parameters cells"
   ]
  },
  {
   "cell_type": "code",
   "execution_count": null,
   "id": "af5f78e1",
   "metadata": {},
   "outputs": [],
   "source": [
    "from time import sleep\n",
    "sleep(4*60)  # execution in 5 minutes should work"
   ]
  }
 ],
 "metadata": {
  "kernelspec": {
   "display_name": ".venv",
   "language": "python",
   "name": "python3"
  },
  "language_info": {
   "name": "python",
   "version": "3.12.8"
  }
 },
 "nbformat": 4,
 "nbformat_minor": 5
}
